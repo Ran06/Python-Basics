{
 "cells": [
  {
   "cell_type": "code",
   "execution_count": 14,
   "id": "5ab729b5",
   "metadata": {},
   "outputs": [
    {
     "name": "stdout",
     "output_type": "stream",
     "text": [
      "First name : Rana \n",
      "Last name : Bousnane\n",
      "Bousnane Rana \n"
     ]
    }
   ],
   "source": [
    "#Question 1\n",
    "first_name = input(\"First name : \")\n",
    "last_name = input(\"Last name : \")\n",
    "print(last_name, first_name)"
   ]
  },
  {
   "cell_type": "code",
   "execution_count": 15,
   "id": "9f68164a",
   "metadata": {},
   "outputs": [
    {
     "name": "stdout",
     "output_type": "stream",
     "text": [
      "5\n",
      "55\n",
      "555\n",
      "5555\n",
      "55555\n",
      "61725\n"
     ]
    }
   ],
   "source": [
    "#Question 2\n",
    "n = 5\n",
    "s = 0 \n",
    "for i in range(5) : \n",
    "    a = str(n) * (i+1)\n",
    "    s = s + int(a)\n",
    "    print(a)\n",
    "print(s)"
   ]
  },
  {
   "cell_type": "code",
   "execution_count": 16,
   "id": "2890c9c5",
   "metadata": {},
   "outputs": [
    {
     "name": "stdout",
     "output_type": "stream",
     "text": [
      "Choose a number : 10\n",
      "The number is even.\n"
     ]
    }
   ],
   "source": [
    "#Question 3\n",
    "num = int(input(\"Choose a number : \"))\n",
    "if num % 2 == 0 : \n",
    "    print(\"The number is even.\")\n",
    "else :\n",
    "    print(\"The number is odd.\")  "
   ]
  },
  {
   "cell_type": "code",
   "execution_count": 17,
   "id": "4796cb11",
   "metadata": {},
   "outputs": [
    {
     "name": "stdout",
     "output_type": "stream",
     "text": [
      "2002 2009 2016 2023 2037 2044 2051 2058 2072 2079 2086 2093 2107 2114 2121 2128 2142 2149 2156 2163 2177 2184 2191 2198 2212 2219 2226 2233 2247 2254 2261 2268 2282 2289 2296 2303 2317 2324 2331 2338 2352 2359 2366 2373 2387 2394 2401 2408 2422 2429 2436 2443 2457 2464 2471 2478 2492 2499 2506 2513 2527 2534 2541 2548 2562 2569 2576 2583 2597 2604 2611 2618 2632 2639 2646 2653 2667 2674 2681 2688 2702 2709 2716 2723 2737 2744 2751 2758 2772 2779 2786 2793 2807 2814 2821 2828 2842 2849 2856 2863 2877 2884 2891 2898 2912 2919 2926 2933 2947 2954 2961 2968 2982 2989 2996 3003 3017 3024 3031 3038 3052 3059 3066 3073 3087 3094 3101 3108 3122 3129 3136 3143 3157 3164 3171 3178 3192 3199 "
     ]
    }
   ],
   "source": [
    "#Question 4\n",
    "for  i in range(2000, 3201) :\n",
    "    if i % 7 == 0 and i % 5 != 0 : \n",
    "        print(i, end = \" \")"
   ]
  },
  {
   "cell_type": "code",
   "execution_count": 18,
   "id": "d8dcaf4f",
   "metadata": {},
   "outputs": [
    {
     "name": "stdout",
     "output_type": "stream",
     "text": [
      "Choose a number : 5\n",
      "1 x 2 x 3 x 4 x 5 x 120\n"
     ]
    }
   ],
   "source": [
    "#Question 5\n",
    "num1 = int(input(\"Choose a number : \"))\n",
    "n = 1\n",
    "for i in range(num1) :\n",
    "    n = (i + 1) * n\n",
    "    print(i + 1, end = \" x \")\n",
    "print(n)"
   ]
  },
  {
   "cell_type": "code",
   "execution_count": 19,
   "id": "52dbdbe2",
   "metadata": {},
   "outputs": [
    {
     "name": "stdout",
     "output_type": "stream",
     "text": [
      "Choose a word : hello team\n",
      "hlota\n"
     ]
    }
   ],
   "source": [
    "#Question 6\n",
    "s = input(\"Choose a word : \")\n",
    "n = \"\"\n",
    "for i in range(0, len(s), 2) :\n",
    "    n = n + s[i]\n",
    "print(n)"
   ]
  },
  {
   "cell_type": "code",
   "execution_count": 20,
   "id": "8cf4513c",
   "metadata": {},
   "outputs": [
    {
     "name": "stdout",
     "output_type": "stream",
     "text": [
      "Enter a price : 1000\n",
      "500.0\n"
     ]
    }
   ],
   "source": [
    "#Question 7\n",
    "price = int(input(\"Enter a price : \")) \n",
    "if price >= 500 :\n",
    "    p = price - 50/100 * price\n",
    "elif 200 <= price < 500 : \n",
    "    p = price - 30/100 * price\n",
    "elif price < 200 : \n",
    "    p = price - 10/100 * price\n",
    "print(p)"
   ]
  },
  {
   "cell_type": "code",
   "execution_count": null,
   "id": "18ec2a1b",
   "metadata": {},
   "outputs": [],
   "source": []
  }
 ],
 "metadata": {
  "kernelspec": {
   "display_name": "Python 3 (ipykernel)",
   "language": "python",
   "name": "python3"
  },
  "language_info": {
   "codemirror_mode": {
    "name": "ipython",
    "version": 3
   },
   "file_extension": ".py",
   "mimetype": "text/x-python",
   "name": "python",
   "nbconvert_exporter": "python",
   "pygments_lexer": "ipython3",
   "version": "3.9.12"
  }
 },
 "nbformat": 4,
 "nbformat_minor": 5
}
